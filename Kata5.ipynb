{
 "cells": [
  {
   "cell_type": "code",
   "execution_count": 13,
   "metadata": {},
   "outputs": [
    {
     "name": "stdout",
     "output_type": "stream",
     "text": [
      "Distancia entre los planetas: 628949330\n",
      "Distancia entre los planetas en millas: 390577533.93\n"
     ]
    }
   ],
   "source": [
    "DistanciaTierra=149597870\n",
    "DistanciaJupiter=778547200\n",
    "Distancia=DistanciaJupiter-DistanciaTierra\n",
    "print('Distancia entre los planetas:',Distancia)\n",
    "Millas=Distancia*0.621\n",
    "print('Distancia entre los planetas en millas:',Millas)"
   ]
  },
  {
   "cell_type": "code",
   "execution_count": 16,
   "metadata": {},
   "outputs": [
    {
     "name": "stdout",
     "output_type": "stream",
     "text": [
      "10\n",
      "6.21\n"
     ]
    }
   ],
   "source": [
    "DistanciaPlaneta1 = input('Introduzca la distancia del sol para el primer planeta en KM')\n",
    "DistanciaPlaneta2 = input('Introduzca la distancia desde el sol para el segundo planeta en KM')\n",
    "DistanciaPlaneta1 = int(DistanciaPlaneta1)\n",
    "DistanciaPlaneta2 = int(DistanciaPlaneta2)\n",
    "distance_km = DistanciaPlaneta2 - DistanciaPlaneta1\n",
    "print(distance_km)\n",
    "distance_mi = distance_km * 0.621\n",
    "print(abs(distance_mi))"
   ]
  }
 ],
 "metadata": {
  "interpreter": {
   "hash": "7723ed03efc10b713b22800c6bd66f7669dd3dc24b9728d9e8d8dfdb821d0edd"
  },
  "kernelspec": {
   "display_name": "Python 3.10.2 64-bit",
   "language": "python",
   "name": "python3"
  },
  "language_info": {
   "codemirror_mode": {
    "name": "ipython",
    "version": 3
   },
   "file_extension": ".py",
   "mimetype": "text/x-python",
   "name": "python",
   "nbconvert_exporter": "python",
   "pygments_lexer": "ipython3",
   "version": "3.10.2"
  },
  "orig_nbformat": 4
 },
 "nbformat": 4,
 "nbformat_minor": 2
}
