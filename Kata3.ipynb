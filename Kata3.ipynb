{
 "cells": [
  {
   "cell_type": "code",
   "execution_count": 2,
   "metadata": {},
   "outputs": [
    {
     "name": "stdout",
     "output_type": "stream",
     "text": [
      "Sin peligro\n"
     ]
    }
   ],
   "source": [
    "asteroideVelocidad = 10\n",
    "\n",
    "if asteroideVelocidad > 25:\n",
    "    print('Advertencia de impacto')\n",
    "else:\n",
    "    print('Sin peligro')"
   ]
  },
  {
   "cell_type": "code",
   "execution_count": 4,
   "metadata": {},
   "outputs": [
    {
     "name": "stdout",
     "output_type": "stream",
     "text": [
      "Se puede observar el rayo de luz\n"
     ]
    }
   ],
   "source": [
    "asteroideVelocidad = 19\n",
    "if asteroideVelocidad >= 20:\n",
    "    print('Se puede observar el rayo de luz')\n",
    "else:\n",
    "    print('No se puede observar el rayo de luz')"
   ]
  },
  {
   "cell_type": "code",
   "execution_count": 19,
   "metadata": {},
   "outputs": [
    {
     "name": "stdout",
     "output_type": "stream",
     "text": [
      "Alerta de impacto de asteroide\n"
     ]
    }
   ],
   "source": [
    "asteroideVelocidad = 25\n",
    "asteroideTamaño=26\n",
    "if asteroideVelocidad >= 25 and asteroideTamaño>25:\n",
    "    print('Alerta de impacto de asteroide')\n",
    "elif asteroideVelocidad >=20:\n",
    "     print('se puede observar un asteroide')\n",
    "elif asteroideTamaño <25:\n",
    " print('Sin peligro')\n",
    "else:\n",
    "    print('No se puede observar el rayo de luz')"
   ]
  }
 ],
 "metadata": {
  "interpreter": {
   "hash": "7723ed03efc10b713b22800c6bd66f7669dd3dc24b9728d9e8d8dfdb821d0edd"
  },
  "kernelspec": {
   "display_name": "Python 3.10.2 64-bit",
   "language": "python",
   "name": "python3"
  },
  "language_info": {
   "codemirror_mode": {
    "name": "ipython",
    "version": 3
   },
   "file_extension": ".py",
   "mimetype": "text/x-python",
   "name": "python",
   "nbconvert_exporter": "python",
   "pygments_lexer": "ipython3",
   "version": "3.10.2"
  },
  "orig_nbformat": 4
 },
 "nbformat": 4,
 "nbformat_minor": 2
}
