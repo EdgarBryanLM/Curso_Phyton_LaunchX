{
 "cells": [
  {
   "cell_type": "code",
   "execution_count": 2,
   "metadata": {},
   "outputs": [
    {
     "name": "stdout",
     "output_type": "stream",
     "text": [
      "['tierra', 'namek', 'jupiter', 'saturno', 'urano', 'vegeta', 'marte', 'venus']\n",
      "['tierra', 'namek', 'jupiter', 'saturno', 'urano', 'vegeta', 'marte', 'venus', 'Pluto']\n"
     ]
    }
   ],
   "source": [
    "planets=['tierra','namek','jupiter','saturno','urano','vegeta','marte','venus']\n",
    "print(planets)\n",
    "planets.append('Pluto')\n",
    "print(planets)"
   ]
  },
  {
   "cell_type": "code",
   "execution_count": 5,
   "metadata": {},
   "outputs": [
    {
     "name": "stdout",
     "output_type": "stream",
     "text": [
      "3\n",
      "Planetas mas cercanos al sol Mars\n",
      "['Mercury', 'Venus', 'Earth']\n",
      "Planetas mas lejanos Mars\n",
      "['Jupiter', 'Saturn', 'Neptune']\n"
     ]
    }
   ],
   "source": [
    "planets = ['Mercury', 'Venus', 'Earth', 'Mars', 'Jupiter', 'Saturn', 'Neptune']\n",
    "planeta_nuevo = input('Por favor escriba el nombre de un planeta(Primera letra en mayuscula)')\n",
    "indice = planets.index(planeta_nuevo)\n",
    "print(indice)\n",
    "print('Planetas mas cercanos al sol ' + planeta_nuevo)\n",
    "print(planets[0:indice])\n",
    "\n",
    "print('Planetas mas lejanos ' + planeta_nuevo)\n",
    "print(planets[indice + 1:])"
   ]
  }
 ],
 "metadata": {
  "interpreter": {
   "hash": "7723ed03efc10b713b22800c6bd66f7669dd3dc24b9728d9e8d8dfdb821d0edd"
  },
  "kernelspec": {
   "display_name": "Python 3.10.2 64-bit",
   "language": "python",
   "name": "python3"
  },
  "language_info": {
   "codemirror_mode": {
    "name": "ipython",
    "version": 3
   },
   "file_extension": ".py",
   "mimetype": "text/x-python",
   "name": "python",
   "nbconvert_exporter": "python",
   "pygments_lexer": "ipython3",
   "version": "3.10.2"
  },
  "orig_nbformat": 4
 },
 "nbformat": 4,
 "nbformat_minor": 2
}
